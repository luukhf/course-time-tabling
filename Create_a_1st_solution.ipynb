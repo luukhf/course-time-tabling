{
 "cells": [
  {
   "cell_type": "code",
   "execution_count": 1,
   "id": "a708c4fd",
   "metadata": {},
   "outputs": [],
   "source": [
    "import pandas as pd\n",
    "import numpy as np\n",
    "import random"
   ]
  },
  {
   "cell_type": "code",
   "execution_count": 7,
   "id": "d87faf62",
   "metadata": {},
   "outputs": [
    {
     "name": "stdout",
     "output_type": "stream",
     "text": [
      "<class 'pandas.core.frame.DataFrame'>\n",
      "Int64Index: 244 entries, 0 to 243\n",
      "Data columns (total 10 columns):\n",
      " #   Column            Non-Null Count  Dtype \n",
      "---  ------            --------------  ----- \n",
      " 0   Student ID        244 non-null    object\n",
      " 1   Credits Required  244 non-null    int64 \n",
      " 2   0                 244 non-null    object\n",
      " 3   1                 244 non-null    object\n",
      " 4   2                 244 non-null    object\n",
      " 5   3                 244 non-null    object\n",
      " 6   4                 244 non-null    object\n",
      " 7   5                 244 non-null    object\n",
      " 8   6                 244 non-null    object\n",
      " 9   7                 244 non-null    object\n",
      "dtypes: int64(1), object(9)\n",
      "memory usage: 21.0+ KB\n",
      "<class 'pandas.core.frame.DataFrame'>\n",
      "Int64Index: 46 entries, 0 to 45\n",
      "Data columns (total 5 columns):\n",
      " #   Column        Non-Null Count  Dtype \n",
      "---  ------        --------------  ----- \n",
      " 0   Course ID     46 non-null     object\n",
      " 1   Min Students  46 non-null     int64 \n",
      " 2   Max Students  46 non-null     int64 \n",
      " 3   Time Slot     46 non-null     int64 \n",
      " 4   Credits       46 non-null     int64 \n",
      "dtypes: int64(4), object(1)\n",
      "memory usage: 2.2+ KB\n",
      "<class 'pandas.core.frame.DataFrame'>\n",
      "Int64Index: 244 entries, 0 to 243\n",
      "Data columns (total 10 columns):\n",
      " #   Column            Non-Null Count  Dtype \n",
      "---  ------            --------------  ----- \n",
      " 0   Student ID        244 non-null    object\n",
      " 1   Credits Required  244 non-null    int64 \n",
      " 2   0                 244 non-null    object\n",
      " 3   1                 244 non-null    object\n",
      " 4   2                 244 non-null    object\n",
      " 5   3                 244 non-null    object\n",
      " 6   4                 244 non-null    object\n",
      " 7   5                 244 non-null    object\n",
      " 8   6                 244 non-null    object\n",
      " 9   7                 244 non-null    object\n",
      "dtypes: int64(1), object(9)\n",
      "memory usage: 21.0+ KB\n",
      "<class 'pandas.core.frame.DataFrame'>\n",
      "Int64Index: 46 entries, 0 to 45\n",
      "Data columns (total 5 columns):\n",
      " #   Column        Non-Null Count  Dtype \n",
      "---  ------        --------------  ----- \n",
      " 0   Course ID     46 non-null     object\n",
      " 1   Min Students  46 non-null     int64 \n",
      " 2   Max Students  46 non-null     int64 \n",
      " 3   Time Slot     46 non-null     int64 \n",
      " 4   Credits       46 non-null     int64 \n",
      "dtypes: int64(4), object(1)\n",
      "memory usage: 2.2+ KB\n"
     ]
    }
   ],
   "source": [
    "%run Programming_project_cleaning_and_formatting.ipynb\n",
    "%run getValue_functions_and_Initial_solution.ipynb"
   ]
  },
  {
   "cell_type": "code",
   "execution_count": 70,
   "id": "e5c40242",
   "metadata": {},
   "outputs": [],
   "source": [
    "to_be_distributed = random.sample(getAllStudents(), len(getAllStudents()))  # list of students randomized\n",
    "\n",
    "course_list = getAllCourses()  # list of courses"
   ]
  },
  {
   "cell_type": "code",
   "execution_count": 71,
   "id": "47924d5a",
   "metadata": {},
   "outputs": [
    {
     "name": "stdout",
     "output_type": "stream",
     "text": [
      "{'DA010': ['s_153'], 'DA011': ['s_223'], 'DA011F': [], 'DA104': ['s_184', 's_5', 's_195', 's_114', 's_12', 's_8', 's_211', 's_246', 's_191', 's_9', 's_70', 's_244', 's_38'], 'DA201': ['s_109', 's_158', 's_185', 's_178', 's_87', 's_167', 's_82', 's_193', 's_157', 's_10'], 'DA202': ['s_84'], 'DA204': ['s_160'], 'DA206': ['s_128'], 'DA207': ['s_228', 's_76', 's_242', 's_220', 's_138', 's_173'], 'DA211': ['s_72'], 'DA212': ['s_4', 's_59', 's_135', 's_209', 's_100', 's_216', 's_174', 's_142', 's_126', 's_57', 's_110', 's_124', 's_11', 's_230', 's_98', 's_180', 's_237', 's_13'], 'DA217': ['s_201', 's_203', 's_43', 's_177'], 'DA220': [], 'DA234': ['s_27', 's_28', 's_225'], 'DA238': [], 'DA250F-1': ['s_14'], 'DA250F-2': [], 'DA251F': ['s_183', 's_47'], 'DA301-1': ['s_190', 's_161', 's_146', 's_83', 's_162', 's_34'], 'DA302': ['s_151'], 'DA306': ['s_150', 's_176'], 'DA308': ['s_133'], 'DA311': ['s_198', 's_55', 's_127', 's_170', 's_89', 's_123', 's_154', 's_141', 's_41'], 'DA403': ['s_48', 's_102', 's_239'], 'DA408': ['s_234'], 'DA415F': ['s_86', 's_111', 's_61', 's_137', 's_22', 's_215', 's_54', 's_231'], 'DA511': ['s_187', 's_90', 's_95', 's_202', 's_155', 's_164', 's_196', 's_108'], 'DA512': ['s_217', 's_172', 's_20', 's_118', 's_25', 's_236', 's_30'], 'DA513': ['s_16', 's_45', 's_166', 's_240'], 'DA605': ['s_68', 's_29', 's_33', 's_238', 's_88', 's_125', 's_204', 's_51', 's_232', 's_74', 's_152'], 'DA701': ['s_67', 's_58', 's_26', 's_199', 's_181', 's_17', 's_81', 's_94'], 'DA702': ['s_120'], 'DA704': ['s_69', 's_200', 's_182', 's_171', 's_206'], 'DA707': ['s_134', 's_140', 's_23', 's_156', 's_112', 's_136', 's_49', 's_97', 's_73', 's_78', 's_31', 's_179', 's_168', 's_93', 's_149', 's_117', 's_101', 's_212', 's_241', 's_103', 's_104', 's_99', 's_116', 's_186', 's_163', 's_53', 's_3', 's_36', 's_77', 's_92', 's_37', 's_218', 's_62', 's_35', 's_44', 's_130', 's_63', 's_147', 's_159', 's_210', 's_40'], 'DA714': ['s_24', 's_132'], 'DA717': ['s_106', 's_56', 's_192', 's_205', 's_224', 's_169', 's_91', 's_222', 's_79', 's_227', 's_245', 's_148', 's_139'], 'DA718': ['s_165', 's_46'], 'DA719-1': ['s_39'], 'DA719-2': [], 'DA803': ['s_71'], 'DA806': ['s_85', 's_115', 's_243', 's_19'], 'DA910-1': ['s_50', 's_15', 's_52', 's_121', 's_119', 's_107', 's_113', 's_235', 's_194'], 'DA910-2': ['s_7', 's_226', 's_122', 's_42', 's_65', 's_221', 's_213', 's_32', 's_208', 's_214', 's_219', 's_233', 's_143', 's_18', 's_80'], 'DA912': ['s_105', 's_131', 's_75', 's_6', 's_175', 's_144', 's_229', 's_96', 's_60', 's_145', 's_64', 's_21', 's_188'], 'DI702': [], 'DI703': ['s_189', 's_207', 's_197', 's_66', 's_129']}\n"
     ]
    }
   ],
   "source": [
    "solution = {}  # empty dictionary\n",
    "# 1st step\n",
    "# Every student gets their first prefered course\n",
    "for i in range(len(getAllCourses())):\n",
    "    solution[course_list[i]] = []   #create a dictionary with the courses as keys and empty lists as values\n",
    "\n",
    "for i in range(len(to_be_distributed)):\n",
    "    pref = getListOfPreferedCourses(to_be_distributed[i])\n",
    "    solution[pref[0]].append(to_be_distributed[i])\n",
    "print(solution)"
   ]
  }
 ],
 "metadata": {
  "kernelspec": {
   "display_name": "Python 3",
   "language": "python",
   "name": "python3"
  },
  "language_info": {
   "codemirror_mode": {
    "name": "ipython",
    "version": 3
   },
   "file_extension": ".py",
   "mimetype": "text/x-python",
   "name": "python",
   "nbconvert_exporter": "python",
   "pygments_lexer": "ipython3",
   "version": "3.8.8"
  }
 },
 "nbformat": 4,
 "nbformat_minor": 5
}
