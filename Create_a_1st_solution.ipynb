{
 "cells": [
  {
   "cell_type": "code",
   "execution_count": 1,
   "id": "a708c4fd",
   "metadata": {},
   "outputs": [],
   "source": [
    "import pandas as pd\n",
    "import numpy as np\n",
    "import random\n",
    "from collections import defaultdict\n",
    "from typing import Iterable, List, Set"
   ]
  },
  {
   "cell_type": "code",
   "execution_count": 2,
   "id": "d87faf62",
   "metadata": {},
   "outputs": [
    {
     "name": "stdout",
     "output_type": "stream",
     "text": [
      "<class 'pandas.core.frame.DataFrame'>\n",
      "Int64Index: 244 entries, 0 to 243\n",
      "Data columns (total 10 columns):\n",
      " #   Column            Non-Null Count  Dtype \n",
      "---  ------            --------------  ----- \n",
      " 0   Student ID        244 non-null    object\n",
      " 1   Credits Required  244 non-null    int64 \n",
      " 2   0                 244 non-null    object\n",
      " 3   1                 244 non-null    object\n",
      " 4   2                 244 non-null    object\n",
      " 5   3                 244 non-null    object\n",
      " 6   4                 244 non-null    object\n",
      " 7   5                 244 non-null    object\n",
      " 8   6                 244 non-null    object\n",
      " 9   7                 244 non-null    object\n",
      "dtypes: int64(1), object(9)\n",
      "memory usage: 21.0+ KB\n",
      "<class 'pandas.core.frame.DataFrame'>\n",
      "Int64Index: 46 entries, 0 to 45\n",
      "Data columns (total 5 columns):\n",
      " #   Column        Non-Null Count  Dtype \n",
      "---  ------        --------------  ----- \n",
      " 0   Course ID     46 non-null     object\n",
      " 1   Min Students  46 non-null     int64 \n",
      " 2   Max Students  46 non-null     int64 \n",
      " 3   Time Slot     46 non-null     int64 \n",
      " 4   Credits       46 non-null     int64 \n",
      "dtypes: int64(4), object(1)\n",
      "memory usage: 2.2+ KB\n",
      "<class 'pandas.core.frame.DataFrame'>\n",
      "Int64Index: 244 entries, 0 to 243\n",
      "Data columns (total 10 columns):\n",
      " #   Column            Non-Null Count  Dtype \n",
      "---  ------            --------------  ----- \n",
      " 0   Student ID        244 non-null    object\n",
      " 1   Credits Required  244 non-null    int64 \n",
      " 2   0                 244 non-null    object\n",
      " 3   1                 244 non-null    object\n",
      " 4   2                 244 non-null    object\n",
      " 5   3                 244 non-null    object\n",
      " 6   4                 244 non-null    object\n",
      " 7   5                 244 non-null    object\n",
      " 8   6                 244 non-null    object\n",
      " 9   7                 244 non-null    object\n",
      "dtypes: int64(1), object(9)\n",
      "memory usage: 21.0+ KB\n",
      "<class 'pandas.core.frame.DataFrame'>\n",
      "Int64Index: 46 entries, 0 to 45\n",
      "Data columns (total 5 columns):\n",
      " #   Column        Non-Null Count  Dtype \n",
      "---  ------        --------------  ----- \n",
      " 0   Course ID     46 non-null     object\n",
      " 1   Min Students  46 non-null     int64 \n",
      " 2   Max Students  46 non-null     int64 \n",
      " 3   Time Slot     46 non-null     int64 \n",
      " 4   Credits       46 non-null     int64 \n",
      "dtypes: int64(4), object(1)\n",
      "memory usage: 2.2+ KB\n"
     ]
    }
   ],
   "source": [
    "%run Programming_project_cleaning_and_formatting.ipynb\n",
    "%run getValue_functions_and_Initial_solution.ipynb"
   ]
  },
  {
   "cell_type": "code",
   "execution_count": 3,
   "id": "e5c40242",
   "metadata": {},
   "outputs": [],
   "source": [
    "to_be_distributed = getAllStudents() # list of students randomized\n",
    "all_students = random.sample(getAllStudents(), len(getAllStudents()))\n",
    "\n",
    "course_list = getAllCourses()  # list of courses"
   ]
  },
  {
   "cell_type": "code",
   "execution_count": 4,
   "id": "b876e00c",
   "metadata": {},
   "outputs": [],
   "source": [
    "def get_all_timeslots(courses: Iterable[str]) -> Set[int]:\n",
    "    \"\"\"Return the timeslots for the given courses.\n",
    "    \"\"\"\n",
    "    if not courses: return set()\n",
    "    timeslots = set()\n",
    "    for course in courses:\n",
    "        timeslots.add(getTimeSlotForCourse(course))\n",
    "    return timeslots\n",
    "\n",
    "def sum_credits(courses: Iterable[str]) -> int:\n",
    "    \"\"\"Return the total amount of credits for the given courses.\n",
    "    \"\"\"\n",
    "    if courses:\n",
    "        return sum(getCreditsForCourse(course) for course in courses)\n",
    "    else: \n",
    "        return 0\n",
    "\n",
    "def next_preffered_course(preffered: List[str], assigned: List[str]) -> str:\n",
    "    \"\"\"Return the next course in the preffered list that is available, otherwise None.\n",
    "    \"\"\"\n",
    "    taken_timeslots = get_all_timeslots(assigned)\n",
    "    return next((\n",
    "        course for course in preffered \n",
    "        if not getTimeSlotForCourse(course) in taken_timeslots \n",
    "        and len(sol_courses[course]) < getMaxStudentsForCourse(course)\n",
    "    ), None)"
   ]
  },
  {
   "cell_type": "code",
   "execution_count": 5,
   "id": "47924d5a",
   "metadata": {},
   "outputs": [
    {
     "data": {
      "text/plain": [
       "(['s_207',\n",
       "  's_125',\n",
       "  's_4',\n",
       "  's_240',\n",
       "  's_137',\n",
       "  's_11',\n",
       "  's_166',\n",
       "  's_168',\n",
       "  's_40',\n",
       "  's_130',\n",
       "  's_52',\n",
       "  's_15',\n",
       "  's_80',\n",
       "  's_89',\n",
       "  's_66'],\n",
       " ['DA250F-1',\n",
       "  'DA306',\n",
       "  'DA211',\n",
       "  'DA206',\n",
       "  'DA011F',\n",
       "  'DA220',\n",
       "  'DA250F-2',\n",
       "  'DA719-2'])"
      ]
     },
     "execution_count": 5,
     "metadata": {},
     "output_type": "execute_result"
    }
   ],
   "source": [
    "to_be_distributed = getAllStudents() # list of students randomized\n",
    "all_students = random.sample(getAllStudents(), len(getAllStudents()))\n",
    "\n",
    "sol_students = defaultdict(list)  # empty dictionary\n",
    "sol_courses = defaultdict(list)\n",
    "\n",
    "not_enough_credits = list()\n",
    "# 1st step\n",
    "# Every student gets their first prefered course\n",
    "\n",
    "while to_be_distributed:\n",
    "    for st_id in all_students:\n",
    "        if st_id in to_be_distributed: # Loop through all students that need to be distributed\n",
    "            \n",
    "            pref_courses = getListOfPreferedCourses(st_id)\n",
    "            taken_timeslots = get_all_timeslots(sol_students[st_id])\n",
    "            available_course = next_preffered_course(pref_courses, sol_students[st_id])\n",
    "            \n",
    "            if available_course: # If there is an available course, use it\n",
    "                sol_courses[available_course].append(st_id)\n",
    "                sol_students[st_id].append(available_course)\n",
    "                if getCreditsRequiredForStudent(st_id) <= sum_credits(sol_students[st_id]): # Student has enough credits\n",
    "                    to_be_distributed.remove(st_id)\n",
    "                    \n",
    "            else: # If there is not, move the student\n",
    "                to_be_distributed.remove(st_id)\n",
    "                not_enough_credits.append(st_id)\n",
    "\n",
    "not_enough_students = [course for course, students in sol_courses.items() if len(students) < getMinStudentsForCourse(course)]                \n",
    "\n",
    "not_enough_credits, not_enough_students"
   ]
  },
  {
   "cell_type": "code",
   "execution_count": null,
   "id": "ec355311",
   "metadata": {},
   "outputs": [],
   "source": []
  }
 ],
 "metadata": {
  "kernelspec": {
   "display_name": "Python 3",
   "language": "python",
   "name": "python3"
  },
  "language_info": {
   "codemirror_mode": {
    "name": "ipython",
    "version": 3
   },
   "file_extension": ".py",
   "mimetype": "text/x-python",
   "name": "python",
   "nbconvert_exporter": "python",
   "pygments_lexer": "ipython3",
   "version": "3.8.8"
  }
 },
 "nbformat": 4,
 "nbformat_minor": 5
}
