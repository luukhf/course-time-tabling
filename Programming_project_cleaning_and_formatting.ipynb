{
 "cells": [
  {
   "cell_type": "markdown",
   "id": "9734dbb9",
   "metadata": {},
   "source": [
    "### Import the libraries"
   ]
  },
  {
   "cell_type": "code",
   "execution_count": 1,
   "id": "c2981e9e",
   "metadata": {},
   "outputs": [],
   "source": [
    "import numpy as np\n",
    "import pandas as pd"
   ]
  },
  {
   "cell_type": "code",
   "execution_count": 2,
   "id": "4ab64c02",
   "metadata": {},
   "outputs": [],
   "source": [
    "df_students_original = pd.read_excel (r'./data/student_project_assignment_input-1.xls', sheet_name='studenten')\n",
    "df_courses_original = pd.read_excel (r'./data/student_project_assignment_input-1.xls', sheet_name='assignments')\n",
    "df_students = df_students_original.copy()\n",
    "df_courses = df_courses_original.copy()"
   ]
  },
  {
   "cell_type": "markdown",
   "id": "f9074b61",
   "metadata": {},
   "source": [
    "### Clean the data"
   ]
  },
  {
   "cell_type": "code",
   "execution_count": 3,
   "id": "b6c9493c",
   "metadata": {},
   "outputs": [],
   "source": [
    "# CLEANING STUDENTS\n",
    "\n",
    "df_students.loc[0][2:] = list(map(str, range(8))) # Set column labels with happiness course preference number\n",
    "df_students.columns = df_students.iloc[0]\n",
    "\n",
    "df_students = df_students.drop(0) # Drop the labels of the first column\n",
    "df_students = df_students.reset_index(drop=True) # Reset the index of the first column with integer index\n",
    "\n",
    "clean_empty_students = df_students['Student ID'].isnull() | df_students['Credits Required'].isnull() \n",
    "df_students = df_students[~clean_empty_students] # Detect missing values in the columns 'Student ID' and 'Credits Required'\n",
    "\n",
    "df_students.reset_index(drop=True) # Reset the index of the first column with integer index\n",
    "\n",
    "credits_num = pd.to_numeric(df_students['Credits Required']) # Convert the credits to a numeric type\n",
    "df_students['Credits Required'] = credits_num"
   ]
  },
  {
   "cell_type": "code",
   "execution_count": 4,
   "id": "544c6573",
   "metadata": {},
   "outputs": [
    {
     "name": "stdout",
     "output_type": "stream",
     "text": [
      "<class 'pandas.core.frame.DataFrame'>\n",
      "Int64Index: 244 entries, 0 to 243\n",
      "Data columns (total 10 columns):\n",
      " #   Column            Non-Null Count  Dtype \n",
      "---  ------            --------------  ----- \n",
      " 0   Student ID        244 non-null    object\n",
      " 1   Credits Required  244 non-null    int64 \n",
      " 2   0                 244 non-null    object\n",
      " 3   1                 244 non-null    object\n",
      " 4   2                 244 non-null    object\n",
      " 5   3                 244 non-null    object\n",
      " 6   4                 244 non-null    object\n",
      " 7   5                 244 non-null    object\n",
      " 8   6                 244 non-null    object\n",
      " 9   7                 244 non-null    object\n",
      "dtypes: int64(1), object(9)\n",
      "memory usage: 21.0+ KB\n"
     ]
    }
   ],
   "source": [
    "df_students.info() # Print a concise summary of the students"
   ]
  },
  {
   "cell_type": "code",
   "execution_count": 5,
   "id": "952572c9",
   "metadata": {},
   "outputs": [],
   "source": [
    "# CLEANING COURSES\n",
    "df_courses.columns = df_courses.iloc[0]\n",
    "df_courses = df_courses.drop(0) # Set correct column labels\n",
    "df_courses = df_courses.reset_index(drop=True) \n",
    "\n",
    "clean_empty_courses = df_courses['Course ID'].isnull() # Remove empty rows\n",
    "df_courses = df_courses[~clean_empty_courses]\n",
    "\n",
    "df_courses.reset_index(drop = True)\n",
    "\n",
    "df_courses['Min Students'] = pd.to_numeric(df_courses['Min Students'])\n",
    "df_courses['Max Students'] = pd.to_numeric(df_courses['Max Students'])\n",
    "df_courses['Time Slot'] = pd.to_numeric(df_courses['Time Slot'])\n",
    "df_courses['Credits'] = pd.to_numeric(df_courses['Credits'])"
   ]
  },
  {
   "cell_type": "code",
   "execution_count": 6,
   "id": "b9a8a57d",
   "metadata": {},
   "outputs": [
    {
     "name": "stdout",
     "output_type": "stream",
     "text": [
      "<class 'pandas.core.frame.DataFrame'>\n",
      "Int64Index: 46 entries, 0 to 45\n",
      "Data columns (total 5 columns):\n",
      " #   Column        Non-Null Count  Dtype \n",
      "---  ------        --------------  ----- \n",
      " 0   Course ID     46 non-null     object\n",
      " 1   Min Students  46 non-null     int64 \n",
      " 2   Max Students  46 non-null     int64 \n",
      " 3   Time Slot     46 non-null     int64 \n",
      " 4   Credits       46 non-null     int64 \n",
      "dtypes: int64(4), object(1)\n",
      "memory usage: 2.2+ KB\n"
     ]
    }
   ],
   "source": [
    "df_courses.info() # Print a concise summary of the courses"
   ]
  }
 ],
 "metadata": {
  "kernelspec": {
   "display_name": "Python 3",
   "language": "python",
   "name": "python3"
  },
  "language_info": {
   "codemirror_mode": {
    "name": "ipython",
    "version": 3
   },
   "file_extension": ".py",
   "mimetype": "text/x-python",
   "name": "python",
   "nbconvert_exporter": "python",
   "pygments_lexer": "ipython3",
   "version": "3.8.8"
  }
 },
 "nbformat": 4,
 "nbformat_minor": 5
}
