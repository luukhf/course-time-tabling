{
 "cells": [
  {
   "cell_type": "code",
   "execution_count": 1,
   "id": "8bdaa701",
   "metadata": {},
   "outputs": [],
   "source": [
    "import pandas as pd\n",
    "import numpy as np"
   ]
  },
  {
   "cell_type": "code",
   "execution_count": 6,
   "id": "987cb701",
   "metadata": {},
   "outputs": [
    {
     "name": "stdout",
     "output_type": "stream",
     "text": [
      "<class 'pandas.core.frame.DataFrame'>\n",
      "Int64Index: 244 entries, 0 to 243\n",
      "Data columns (total 10 columns):\n",
      " #   Column            Non-Null Count  Dtype \n",
      "---  ------            --------------  ----- \n",
      " 0   Student ID        244 non-null    object\n",
      " 1   Credits Required  244 non-null    int64 \n",
      " 2   8                 244 non-null    object\n",
      " 3   7                 244 non-null    object\n",
      " 4   6                 244 non-null    object\n",
      " 5   5                 244 non-null    object\n",
      " 6   4                 244 non-null    object\n",
      " 7   3                 244 non-null    object\n",
      " 8   2                 244 non-null    object\n",
      " 9   1                 244 non-null    object\n",
      "dtypes: int64(1), object(9)\n",
      "memory usage: 21.0+ KB\n",
      "<class 'pandas.core.frame.DataFrame'>\n",
      "Int64Index: 46 entries, 0 to 45\n",
      "Data columns (total 5 columns):\n",
      " #   Column        Non-Null Count  Dtype \n",
      "---  ------        --------------  ----- \n",
      " 0   Course ID     46 non-null     object\n",
      " 1   Min Students  46 non-null     int64 \n",
      " 2   Max Students  46 non-null     int64 \n",
      " 3   Time Slot     46 non-null     int64 \n",
      " 4   Credits       46 non-null     int64 \n",
      "dtypes: int64(4), object(1)\n",
      "memory usage: 2.2+ KB\n"
     ]
    }
   ],
   "source": [
    "%run Programming_project_cleaning_and_formatting.ipynb"
   ]
  },
  {
   "cell_type": "code",
   "execution_count": 68,
   "id": "bf5914f1",
   "metadata": {},
   "outputs": [],
   "source": [
    "def HappinessList(n:int) :\n",
    "    \"\"\"Creates a list which we will use to give the happiness values, jou can change this to be anything\"\"\"\n",
    "    lst = list(range(1, n+1))\n",
    "    return list(reversed(lst))\n"
   ]
  },
  {
   "cell_type": "code",
   "execution_count": 173,
   "id": "e7630a32",
   "metadata": {},
   "outputs": [],
   "source": [
    "\n",
    "def HappinessMeter(solution) -> int:\n",
    "    \n",
    "    \"\"\"Calculates the total happiness for a given solution in dictionary form (dictionary with courses as the keys)\"\"\"\n",
    "    \n",
    "    \n",
    "    key_list = list(solution)\n",
    "    TotalHappiness = 0\n",
    "    for i in range(len(solution)):\n",
    "        HappinessCounter = 0\n",
    "        for j in range(len(solution[key_list[i]])):\n",
    "            index = np.where(df_students[\"Student ID\"] == solution[key_list[i]][j])[0][0]\n",
    "            if list(np.where(df_students.loc[index] == key_list[i])[0]) == []:\n",
    "                points = -1  #-1 by default, but we can change this\n", 
    "            else:\n",
    "                pointscolumn = min(np.where(df_students.loc[index] == key_list[i])[0])\n",
    "                points = HappinessList(len(df_students.loc[0])-2)[pointscolumn-2]\n",
    "            HappinessCounter = HappinessCounter + points\n",
    "        \n",
    "        TotalHappiness = TotalHappiness + HappinessCounter\n",
    "    return   TotalHappiness\n",
    "        "
   ]
  }
 ],
 "metadata": {
  "kernelspec": {
   "display_name": "Python 3",
   "language": "python",
   "name": "python3"
  },
  "language_info": {
   "codemirror_mode": {
    "name": "ipython",
    "version": 3
   },
   "file_extension": ".py",
   "mimetype": "text/x-python",
   "name": "python",
   "nbconvert_exporter": "python",
   "pygments_lexer": "ipython3",
   "version": "3.8.8"
  }
 },
 "nbformat": 4,
 "nbformat_minor": 5
}
